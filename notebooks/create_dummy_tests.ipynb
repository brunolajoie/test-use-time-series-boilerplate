{
 "cells": [
  {
   "cell_type": "markdown",
   "metadata": {},
   "source": [
    "## Create Unit tests for this project"
   ]
  },
  {
   "cell_type": "code",
   "execution_count": 1,
   "metadata": {
    "ExecuteTime": {
     "end_time": "2022-03-14T14:24:55.279012Z",
     "start_time": "2022-03-14T14:24:53.949004Z"
    }
   },
   "outputs": [
    {
     "name": "stdout",
     "output_type": "stream",
     "text": [
      "The autoreload extension is already loaded. To reload it, use:\n",
      "  %reload_ext autoreload\n"
     ]
    }
   ],
   "source": [
    "import numpy as np\n",
    "import pandas as pd\n",
    "import matplotlib.pyplot as plt\n",
    "import os\n",
    "from ts_boilerplate.params import ROOT_DIR, DATA, TRAIN, CROSS_VAL\n",
    "from ts_boilerplate.data import get_X_y\n",
    "from ts_boilerplate.generate_dummy_data import generate_data_monotonic_increase, generate_data_zeros_and_ones, generate_X_y_zeros_and_ones\n",
    "\n",
    "%load_ext autoreload\n",
    "%autoreload 2"
   ]
  },
  {
   "cell_type": "markdown",
   "metadata": {},
   "source": [
    "## Let's create a dummy time series dataset whose value increment by 1 every day"
   ]
  },
  {
   "cell_type": "code",
   "execution_count": 2,
   "metadata": {},
   "outputs": [
    {
     "data": {
      "text/plain": [
       "array([[  0.,   0.,   0.,   0.,   0.],\n",
       "       [  1.,   1.,   1.,   1.,   1.],\n",
       "       [  2.,   2.,   2.,   2.,   2.],\n",
       "       ...,\n",
       "       [997., 997., 997., 997., 997.],\n",
       "       [998., 998., 998., 998., 998.],\n",
       "       [999., 999., 999., 999., 999.]])"
      ]
     },
     "execution_count": 2,
     "metadata": {},
     "output_type": "execute_result"
    }
   ],
   "source": [
    "data = generate_data_monotonic_increase()\n",
    "data"
   ]
  },
  {
   "cell_type": "code",
   "execution_count": 3,
   "metadata": {
    "ExecuteTime": {
     "end_time": "2022-03-14T14:25:19.973275Z",
     "start_time": "2022-03-14T14:25:19.950901Z"
    }
   },
   "outputs": [
    {
     "data": {
      "text/html": [
       "<div>\n",
       "<style scoped>\n",
       "    .dataframe tbody tr th:only-of-type {\n",
       "        vertical-align: middle;\n",
       "    }\n",
       "\n",
       "    .dataframe tbody tr th {\n",
       "        vertical-align: top;\n",
       "    }\n",
       "\n",
       "    .dataframe thead th {\n",
       "        text-align: right;\n",
       "    }\n",
       "</style>\n",
       "<table border=\"1\" class=\"dataframe\">\n",
       "  <thead>\n",
       "    <tr style=\"text-align: right;\">\n",
       "      <th></th>\n",
       "      <th>0</th>\n",
       "      <th>1</th>\n",
       "      <th>2</th>\n",
       "      <th>3</th>\n",
       "      <th>4</th>\n",
       "    </tr>\n",
       "  </thead>\n",
       "  <tbody>\n",
       "    <tr>\n",
       "      <th>0</th>\n",
       "      <td>0.0</td>\n",
       "      <td>0.0</td>\n",
       "      <td>0.0</td>\n",
       "      <td>0.0</td>\n",
       "      <td>0.0</td>\n",
       "    </tr>\n",
       "    <tr>\n",
       "      <th>1</th>\n",
       "      <td>1.0</td>\n",
       "      <td>1.0</td>\n",
       "      <td>1.0</td>\n",
       "      <td>1.0</td>\n",
       "      <td>1.0</td>\n",
       "    </tr>\n",
       "    <tr>\n",
       "      <th>2</th>\n",
       "      <td>2.0</td>\n",
       "      <td>2.0</td>\n",
       "      <td>2.0</td>\n",
       "      <td>2.0</td>\n",
       "      <td>2.0</td>\n",
       "    </tr>\n",
       "    <tr>\n",
       "      <th>3</th>\n",
       "      <td>3.0</td>\n",
       "      <td>3.0</td>\n",
       "      <td>3.0</td>\n",
       "      <td>3.0</td>\n",
       "      <td>3.0</td>\n",
       "    </tr>\n",
       "    <tr>\n",
       "      <th>4</th>\n",
       "      <td>4.0</td>\n",
       "      <td>4.0</td>\n",
       "      <td>4.0</td>\n",
       "      <td>4.0</td>\n",
       "      <td>4.0</td>\n",
       "    </tr>\n",
       "    <tr>\n",
       "      <th>...</th>\n",
       "      <td>...</td>\n",
       "      <td>...</td>\n",
       "      <td>...</td>\n",
       "      <td>...</td>\n",
       "      <td>...</td>\n",
       "    </tr>\n",
       "    <tr>\n",
       "      <th>995</th>\n",
       "      <td>995.0</td>\n",
       "      <td>995.0</td>\n",
       "      <td>995.0</td>\n",
       "      <td>995.0</td>\n",
       "      <td>995.0</td>\n",
       "    </tr>\n",
       "    <tr>\n",
       "      <th>996</th>\n",
       "      <td>996.0</td>\n",
       "      <td>996.0</td>\n",
       "      <td>996.0</td>\n",
       "      <td>996.0</td>\n",
       "      <td>996.0</td>\n",
       "    </tr>\n",
       "    <tr>\n",
       "      <th>997</th>\n",
       "      <td>997.0</td>\n",
       "      <td>997.0</td>\n",
       "      <td>997.0</td>\n",
       "      <td>997.0</td>\n",
       "      <td>997.0</td>\n",
       "    </tr>\n",
       "    <tr>\n",
       "      <th>998</th>\n",
       "      <td>998.0</td>\n",
       "      <td>998.0</td>\n",
       "      <td>998.0</td>\n",
       "      <td>998.0</td>\n",
       "      <td>998.0</td>\n",
       "    </tr>\n",
       "    <tr>\n",
       "      <th>999</th>\n",
       "      <td>999.0</td>\n",
       "      <td>999.0</td>\n",
       "      <td>999.0</td>\n",
       "      <td>999.0</td>\n",
       "      <td>999.0</td>\n",
       "    </tr>\n",
       "  </tbody>\n",
       "</table>\n",
       "<p>1000 rows × 5 columns</p>\n",
       "</div>"
      ],
      "text/plain": [
       "         0      1      2      3      4\n",
       "0      0.0    0.0    0.0    0.0    0.0\n",
       "1      1.0    1.0    1.0    1.0    1.0\n",
       "2      2.0    2.0    2.0    2.0    2.0\n",
       "3      3.0    3.0    3.0    3.0    3.0\n",
       "4      4.0    4.0    4.0    4.0    4.0\n",
       "..     ...    ...    ...    ...    ...\n",
       "995  995.0  995.0  995.0  995.0  995.0\n",
       "996  996.0  996.0  996.0  996.0  996.0\n",
       "997  997.0  997.0  997.0  997.0  997.0\n",
       "998  998.0  998.0  998.0  998.0  998.0\n",
       "999  999.0  999.0  999.0  999.0  999.0\n",
       "\n",
       "[1000 rows x 5 columns]"
      ]
     },
     "execution_count": 3,
     "metadata": {},
     "output_type": "execute_result"
    }
   ],
   "source": [
    "data_df = pd.DataFrame(data)\n",
    "data_df"
   ]
  },
  {
   "cell_type": "code",
   "execution_count": 4,
   "metadata": {
    "ExecuteTime": {
     "end_time": "2022-03-14T14:29:22.811701Z",
     "start_time": "2022-03-14T14:29:22.758665Z"
    }
   },
   "outputs": [],
   "source": [
    "data_df.to_csv(os.path.join(ROOT_DIR, \"data\", \"raw\", \"data_dummy.csv\"), index=False)"
   ]
  },
  {
   "cell_type": "code",
   "execution_count": 5,
   "metadata": {
    "ExecuteTime": {
     "end_time": "2022-03-14T14:29:23.364705Z",
     "start_time": "2022-03-14T14:29:23.343210Z"
    }
   },
   "outputs": [
    {
     "data": {
      "text/html": [
       "<div>\n",
       "<style scoped>\n",
       "    .dataframe tbody tr th:only-of-type {\n",
       "        vertical-align: middle;\n",
       "    }\n",
       "\n",
       "    .dataframe tbody tr th {\n",
       "        vertical-align: top;\n",
       "    }\n",
       "\n",
       "    .dataframe thead th {\n",
       "        text-align: right;\n",
       "    }\n",
       "</style>\n",
       "<table border=\"1\" class=\"dataframe\">\n",
       "  <thead>\n",
       "    <tr style=\"text-align: right;\">\n",
       "      <th></th>\n",
       "      <th>0</th>\n",
       "      <th>1</th>\n",
       "      <th>2</th>\n",
       "      <th>3</th>\n",
       "      <th>4</th>\n",
       "    </tr>\n",
       "  </thead>\n",
       "  <tbody>\n",
       "    <tr>\n",
       "      <th>0</th>\n",
       "      <td>0.0</td>\n",
       "      <td>0.0</td>\n",
       "      <td>0.0</td>\n",
       "      <td>0.0</td>\n",
       "      <td>0.0</td>\n",
       "    </tr>\n",
       "    <tr>\n",
       "      <th>1</th>\n",
       "      <td>1.0</td>\n",
       "      <td>1.0</td>\n",
       "      <td>1.0</td>\n",
       "      <td>1.0</td>\n",
       "      <td>1.0</td>\n",
       "    </tr>\n",
       "    <tr>\n",
       "      <th>2</th>\n",
       "      <td>2.0</td>\n",
       "      <td>2.0</td>\n",
       "      <td>2.0</td>\n",
       "      <td>2.0</td>\n",
       "      <td>2.0</td>\n",
       "    </tr>\n",
       "    <tr>\n",
       "      <th>3</th>\n",
       "      <td>3.0</td>\n",
       "      <td>3.0</td>\n",
       "      <td>3.0</td>\n",
       "      <td>3.0</td>\n",
       "      <td>3.0</td>\n",
       "    </tr>\n",
       "    <tr>\n",
       "      <th>4</th>\n",
       "      <td>4.0</td>\n",
       "      <td>4.0</td>\n",
       "      <td>4.0</td>\n",
       "      <td>4.0</td>\n",
       "      <td>4.0</td>\n",
       "    </tr>\n",
       "    <tr>\n",
       "      <th>...</th>\n",
       "      <td>...</td>\n",
       "      <td>...</td>\n",
       "      <td>...</td>\n",
       "      <td>...</td>\n",
       "      <td>...</td>\n",
       "    </tr>\n",
       "    <tr>\n",
       "      <th>995</th>\n",
       "      <td>995.0</td>\n",
       "      <td>995.0</td>\n",
       "      <td>995.0</td>\n",
       "      <td>995.0</td>\n",
       "      <td>995.0</td>\n",
       "    </tr>\n",
       "    <tr>\n",
       "      <th>996</th>\n",
       "      <td>996.0</td>\n",
       "      <td>996.0</td>\n",
       "      <td>996.0</td>\n",
       "      <td>996.0</td>\n",
       "      <td>996.0</td>\n",
       "    </tr>\n",
       "    <tr>\n",
       "      <th>997</th>\n",
       "      <td>997.0</td>\n",
       "      <td>997.0</td>\n",
       "      <td>997.0</td>\n",
       "      <td>997.0</td>\n",
       "      <td>997.0</td>\n",
       "    </tr>\n",
       "    <tr>\n",
       "      <th>998</th>\n",
       "      <td>998.0</td>\n",
       "      <td>998.0</td>\n",
       "      <td>998.0</td>\n",
       "      <td>998.0</td>\n",
       "      <td>998.0</td>\n",
       "    </tr>\n",
       "    <tr>\n",
       "      <th>999</th>\n",
       "      <td>999.0</td>\n",
       "      <td>999.0</td>\n",
       "      <td>999.0</td>\n",
       "      <td>999.0</td>\n",
       "      <td>999.0</td>\n",
       "    </tr>\n",
       "  </tbody>\n",
       "</table>\n",
       "<p>1000 rows × 5 columns</p>\n",
       "</div>"
      ],
      "text/plain": [
       "         0      1      2      3      4\n",
       "0      0.0    0.0    0.0    0.0    0.0\n",
       "1      1.0    1.0    1.0    1.0    1.0\n",
       "2      2.0    2.0    2.0    2.0    2.0\n",
       "3      3.0    3.0    3.0    3.0    3.0\n",
       "4      4.0    4.0    4.0    4.0    4.0\n",
       "..     ...    ...    ...    ...    ...\n",
       "995  995.0  995.0  995.0  995.0  995.0\n",
       "996  996.0  996.0  996.0  996.0  996.0\n",
       "997  997.0  997.0  997.0  997.0  997.0\n",
       "998  998.0  998.0  998.0  998.0  998.0\n",
       "999  999.0  999.0  999.0  999.0  999.0\n",
       "\n",
       "[1000 rows x 5 columns]"
      ]
     },
     "execution_count": 5,
     "metadata": {},
     "output_type": "execute_result"
    }
   ],
   "source": [
    "pd.read_csv(os.path.join(ROOT_DIR, \"data\", \"raw\", \"data_dummy.csv\"))"
   ]
  },
  {
   "cell_type": "markdown",
   "metadata": {},
   "source": [
    "## getX_y"
   ]
  },
  {
   "cell_type": "code",
   "execution_count": 6,
   "metadata": {},
   "outputs": [
    {
     "name": "stdout",
     "output_type": "stream",
     "text": [
      "(975, 10, 5)\n",
      "(975, 7, 2)\n"
     ]
    }
   ],
   "source": [
    "X, y = get_X_y(data, **TRAIN)\n",
    "print(X.shape)\n",
    "print(y.shape)"
   ]
  },
  {
   "cell_type": "code",
   "execution_count": 7,
   "metadata": {},
   "outputs": [
    {
     "data": {
      "text/plain": [
       "975.0"
      ]
     },
     "execution_count": 7,
     "metadata": {},
     "output_type": "execute_result"
    }
   ],
   "source": [
    "# Let's compute the shape arithmetically (for unittests)\n",
    "(len(data) \\\n",
    "            - (TRAIN['input_length']  -1) \\\n",
    "            - (TRAIN['output_length'] -1) \\\n",
    "            - TRAIN['horizon']) \\\n",
    "        / TRAIN[\"stride\"]"
   ]
  },
  {
   "cell_type": "markdown",
   "metadata": {},
   "source": [
    "☝️ ceiling rounding function should be used for stride > 1"
   ]
  },
  {
   "cell_type": "markdown",
   "metadata": {},
   "source": [
    "## Create train_test_split"
   ]
  },
  {
   "cell_type": "code",
   "execution_count": 8,
   "metadata": {},
   "outputs": [
    {
     "data": {
      "text/plain": [
       "(1000, 5)"
      ]
     },
     "execution_count": 8,
     "metadata": {},
     "output_type": "execute_result"
    }
   ],
   "source": [
    "train_test_ratio = TRAIN[\"train_test_ratio\"]\n",
    "input_length = TRAIN[\"input_length\"]\n",
    "output_length = TRAIN[\"output_length\"]\n",
    "data.shape"
   ]
  },
  {
   "cell_type": "code",
   "execution_count": 9,
   "metadata": {},
   "outputs": [],
   "source": [
    "last_train_idx = round(train_test_ratio * len(data))\n",
    "data_train = data[0:last_train_idx, :]\n",
    "\n",
    "first_test_idx = last_train_idx - input_length\n",
    "data_test = data[first_test_idx:, :]"
   ]
  },
  {
   "cell_type": "code",
   "execution_count": 10,
   "metadata": {},
   "outputs": [
    {
     "data": {
      "text/plain": [
       "array([[  0.,   0.,   0.,   0.,   0.],\n",
       "       [  1.,   1.,   1.,   1.,   1.],\n",
       "       [  2.,   2.,   2.,   2.,   2.],\n",
       "       ...,\n",
       "       [697., 697., 697., 697., 697.],\n",
       "       [698., 698., 698., 698., 698.],\n",
       "       [699., 699., 699., 699., 699.]])"
      ]
     },
     "execution_count": 10,
     "metadata": {},
     "output_type": "execute_result"
    }
   ],
   "source": [
    "data_train"
   ]
  },
  {
   "cell_type": "code",
   "execution_count": 11,
   "metadata": {},
   "outputs": [
    {
     "data": {
      "text/plain": [
       "array([[690., 690., 690., 690., 690.],\n",
       "       [691., 691., 691., 691., 691.],\n",
       "       [692., 692., 692., 692., 692.],\n",
       "       ...,\n",
       "       [997., 997., 997., 997., 997.],\n",
       "       [998., 998., 998., 998., 998.],\n",
       "       [999., 999., 999., 999., 999.]])"
      ]
     },
     "execution_count": 11,
     "metadata": {},
     "output_type": "execute_result"
    }
   ],
   "source": [
    "data_test"
   ]
  },
  {
   "cell_type": "code",
   "execution_count": 12,
   "metadata": {},
   "outputs": [
    {
     "name": "stdout",
     "output_type": "stream",
     "text": [
      "####### Last train pair\n",
      "[[427. 427. 427. 427. 427.]\n",
      " [428. 428. 428. 428. 428.]\n",
      " [429. 429. 429. 429. 429.]\n",
      " [430. 430. 430. 430. 430.]\n",
      " [431. 431. 431. 431. 431.]\n",
      " [432. 432. 432. 432. 432.]\n",
      " [433. 433. 433. 433. 433.]\n",
      " [434. 434. 434. 434. 434.]\n",
      " [435. 435. 435. 435. 435.]\n",
      " [436. 436. 436. 436. 436.]]\n",
      "[[446. 446.]\n",
      " [447. 447.]\n",
      " [448. 448.]\n",
      " [449. 449.]\n",
      " [450. 450.]\n",
      " [451. 451.]\n",
      " [452. 452.]]\n",
      "####### First test pair\n",
      "[[904. 904. 904. 904. 904.]\n",
      " [905. 905. 905. 905. 905.]\n",
      " [906. 906. 906. 906. 906.]\n",
      " [907. 907. 907. 907. 907.]\n",
      " [908. 908. 908. 908. 908.]\n",
      " [909. 909. 909. 909. 909.]\n",
      " [910. 910. 910. 910. 910.]\n",
      " [911. 911. 911. 911. 911.]\n",
      " [912. 912. 912. 912. 912.]\n",
      " [913. 913. 913. 913. 913.]]\n",
      "[[923. 923.]\n",
      " [924. 924.]\n",
      " [925. 925.]\n",
      " [926. 926.]\n",
      " [927. 927.]\n",
      " [928. 928.]\n",
      " [929. 929.]]\n"
     ]
    }
   ],
   "source": [
    "X_train, y_train = get_X_y(data_train, **TRAIN)\n",
    "X_test, y_test = get_X_y(data_test, **TRAIN)\n",
    "print(\"####### Last train pair\")\n",
    "print(X_train[-1])\n",
    "print(y_train[-1])\n",
    "print(\"####### First test pair\")\n",
    "print(X_test[0])\n",
    "print(y_test[0])"
   ]
  },
  {
   "cell_type": "code",
   "execution_count": 13,
   "metadata": {},
   "outputs": [
    {
     "data": {
      "text/plain": [
       "10.0"
      ]
     },
     "execution_count": 13,
     "metadata": {},
     "output_type": "execute_result"
    }
   ],
   "source": [
    "gap = np.min(y_test) - np.max(y_train)\n",
    "gap"
   ]
  },
  {
   "cell_type": "code",
   "execution_count": 14,
   "metadata": {},
   "outputs": [],
   "source": [
    "assert gap >= TRAIN[\"horizon\"], \"❗️❗️ Data leak detected between (X_train, y_train) and (X_test, y_test)❗️❗️ \""
   ]
  },
  {
   "cell_type": "markdown",
   "metadata": {},
   "source": [
    "## Create folds"
   ]
  },
  {
   "cell_type": "code",
   "execution_count": 15,
   "metadata": {},
   "outputs": [
    {
     "name": "stdout",
     "output_type": "stream",
     "text": [
      "n_folds=  2\n",
      "[[300. 300. 300. 300. 300.]\n",
      " [301. 301. 301. 301. 301.]\n",
      " [302. 302. 302. 302. 302.]\n",
      " ...\n",
      " [897. 897. 897. 897. 897.]\n",
      " [898. 898. 898. 898. 898.]\n",
      " [899. 899. 899. 899. 899.]]\n"
     ]
    }
   ],
   "source": [
    "def get_folds(data: np.ndarray, fold_length: int, fold_stride: int):\n",
    "    folds = []\n",
    "    for i in range(0, len(data), fold_stride):\n",
    "        if (i+fold_length) > len(data):\n",
    "            break\n",
    "        fold = data[i:i+fold_length, :]\n",
    "        folds.append(fold)\n",
    "    return folds\n",
    "\n",
    "folds = get_folds(data, **CROSS_VAL)\n",
    "print('n_folds= ', len(folds))\n",
    "print(folds[-1])"
   ]
  },
  {
   "cell_type": "markdown",
   "metadata": {},
   "source": [
    "## Model"
   ]
  },
  {
   "cell_type": "code",
   "execution_count": 16,
   "metadata": {},
   "outputs": [],
   "source": [
    "import tensorflow as tf\n",
    "from keras.layers import Dense, SimpleRNN, Reshape"
   ]
  },
  {
   "cell_type": "code",
   "execution_count": 17,
   "metadata": {},
   "outputs": [
    {
     "name": "stdout",
     "output_type": "stream",
     "text": [
      "Model: \"sequential\"\n",
      "_________________________________________________________________\n",
      " Layer (type)                Output Shape              Param #   \n",
      "=================================================================\n",
      " simple_rnn (SimpleRNN)      (None, 1)                 7         \n",
      "                                                                 \n",
      " dense (Dense)               (None, 14)                28        \n",
      "                                                                 \n",
      " reshape (Reshape)           (None, 7, 2)              0         \n",
      "                                                                 \n",
      "=================================================================\n",
      "Total params: 35\n",
      "Trainable params: 35\n",
      "Non-trainable params: 0\n",
      "_________________________________________________________________\n",
      "None\n"
     ]
    }
   ],
   "source": [
    "model = tf.keras.Sequential()\n",
    "model.add(SimpleRNN(1, activation='tanh', input_shape=X_train.shape[1:]))\n",
    "model.add(Dense(TRAIN['output_length'] * DATA[\"n_targets\"], activation='linear'))\n",
    "model.add(Reshape(y_train.shape[1:]))\n",
    "model.compile(loss='mse', optimizer=tf.keras.optimizers.Adam(learning_rate=0.1), metrics=tf.keras.metrics.MAPE)\n",
    "print(model.summary())"
   ]
  },
  {
   "cell_type": "code",
   "execution_count": 18,
   "metadata": {},
   "outputs": [],
   "source": [
    "verbose = 0\n",
    "es = tf.keras.callbacks.EarlyStopping(monitor='val_loss',\n",
    "                                          patience=2,\n",
    "                                          verbose=verbose,\n",
    "                                          mode='min',\n",
    "                                          restore_best_weights=True)\n",
    "history = model.fit(X_train,\n",
    "                        y_train,\n",
    "                        epochs=50,\n",
    "                        batch_size=32,\n",
    "                        validation_split=0.3,\n",
    "                        callbacks=[es],\n",
    "                        verbose=verbose)"
   ]
  },
  {
   "cell_type": "code",
   "execution_count": 19,
   "metadata": {},
   "outputs": [
    {
     "data": {
      "text/plain": [
       "array([[[923., 923.],\n",
       "        [924., 924.],\n",
       "        [925., 925.],\n",
       "        ...,\n",
       "        [927., 927.],\n",
       "        [928., 928.],\n",
       "        [929., 929.]],\n",
       "\n",
       "       [[983., 983.],\n",
       "        [984., 984.],\n",
       "        [985., 985.],\n",
       "        ...,\n",
       "        [987., 987.],\n",
       "        [988., 988.],\n",
       "        [989., 989.]],\n",
       "\n",
       "       [[977., 977.],\n",
       "        [978., 978.],\n",
       "        [979., 979.],\n",
       "        ...,\n",
       "        [981., 981.],\n",
       "        [982., 982.],\n",
       "        [983., 983.]],\n",
       "\n",
       "       ...,\n",
       "\n",
       "       [[981., 981.],\n",
       "        [982., 982.],\n",
       "        [983., 983.],\n",
       "        ...,\n",
       "        [985., 985.],\n",
       "        [986., 986.],\n",
       "        [987., 987.]],\n",
       "\n",
       "       [[853., 853.],\n",
       "        [854., 854.],\n",
       "        [855., 855.],\n",
       "        ...,\n",
       "        [857., 857.],\n",
       "        [858., 858.],\n",
       "        [859., 859.]],\n",
       "\n",
       "       [[978., 978.],\n",
       "        [979., 979.],\n",
       "        [980., 980.],\n",
       "        ...,\n",
       "        [982., 982.],\n",
       "        [983., 983.],\n",
       "        [984., 984.]]])"
      ]
     },
     "execution_count": 19,
     "metadata": {},
     "output_type": "execute_result"
    }
   ],
   "source": [
    "y_test"
   ]
  },
  {
   "cell_type": "code",
   "execution_count": 20,
   "metadata": {},
   "outputs": [
    {
     "data": {
      "text/plain": [
       "array([[[134.77231, 134.36353],\n",
       "        [134.54387, 134.68999],\n",
       "        [134.29008, 135.11214],\n",
       "        ...,\n",
       "        [135.20494, 134.58734],\n",
       "        [134.24094, 134.69635],\n",
       "        [135.10703, 134.24292]],\n",
       "\n",
       "       [[134.77231, 134.36353],\n",
       "        [134.54387, 134.68999],\n",
       "        [134.29008, 135.11214],\n",
       "        ...,\n",
       "        [135.20494, 134.58734],\n",
       "        [134.24094, 134.69635],\n",
       "        [135.10703, 134.24292]],\n",
       "\n",
       "       [[134.77231, 134.36353],\n",
       "        [134.54387, 134.68999],\n",
       "        [134.29008, 135.11214],\n",
       "        ...,\n",
       "        [135.20494, 134.58734],\n",
       "        [134.24094, 134.69635],\n",
       "        [135.10703, 134.24292]],\n",
       "\n",
       "       ...,\n",
       "\n",
       "       [[134.77231, 134.36353],\n",
       "        [134.54387, 134.68999],\n",
       "        [134.29008, 135.11214],\n",
       "        ...,\n",
       "        [135.20494, 134.58734],\n",
       "        [134.24094, 134.69635],\n",
       "        [135.10703, 134.24292]],\n",
       "\n",
       "       [[134.77231, 134.36353],\n",
       "        [134.54387, 134.68999],\n",
       "        [134.29008, 135.11214],\n",
       "        ...,\n",
       "        [135.20494, 134.58734],\n",
       "        [134.24094, 134.69635],\n",
       "        [135.10703, 134.24292]],\n",
       "\n",
       "       [[134.77231, 134.36353],\n",
       "        [134.54387, 134.68999],\n",
       "        [134.29008, 135.11214],\n",
       "        ...,\n",
       "        [135.20494, 134.58734],\n",
       "        [134.24094, 134.69635],\n",
       "        [135.10703, 134.24292]]], dtype=float32)"
      ]
     },
     "execution_count": 20,
     "metadata": {},
     "output_type": "execute_result"
    }
   ],
   "source": [
    "y_pred = model.predict(X_test)\n",
    "y_pred "
   ]
  },
  {
   "cell_type": "code",
   "execution_count": 23,
   "metadata": {},
   "outputs": [
    {
     "data": {
      "text/plain": [
       "84.0849"
      ]
     },
     "execution_count": 23,
     "metadata": {},
     "output_type": "execute_result"
    }
   ],
   "source": [
    "from ts_boilerplate.metrics import mape\n",
    "mape(y_test, y_pred)"
   ]
  }
 ],
 "metadata": {
  "interpreter": {
   "hash": "572b4e543617d03e90ecaf525e08695da1ff29b13594f787e33b342cf572f792"
  },
  "kernelspec": {
   "display_name": "Python 3 (ipykernel)",
   "language": "python",
   "name": "python3"
  },
  "language_info": {
   "codemirror_mode": {
    "name": "ipython",
    "version": 3
   },
   "file_extension": ".py",
   "mimetype": "text/x-python",
   "name": "python",
   "nbconvert_exporter": "python",
   "pygments_lexer": "ipython3",
   "version": "3.8.12"
  },
  "toc": {
   "base_numbering": 1,
   "nav_menu": {},
   "number_sections": false,
   "sideBar": true,
   "skip_h1_title": false,
   "title_cell": "Table of Contents",
   "title_sidebar": "Contents",
   "toc_cell": false,
   "toc_position": {},
   "toc_section_display": true,
   "toc_window_display": false
  }
 },
 "nbformat": 4,
 "nbformat_minor": 2
}
